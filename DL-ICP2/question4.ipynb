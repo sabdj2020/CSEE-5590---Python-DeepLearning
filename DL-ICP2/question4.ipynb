{
 "cells": [
  {
   "cell_type": "code",
   "execution_count": 72,
   "metadata": {},
   "outputs": [],
   "source": [
    "# import libraries\n",
    "from keras import Sequential\n",
    "from keras.datasets import mnist\n",
    "import numpy as np\n",
    "from keras.layers import Dense\n",
    "from keras.utils import to_categorical\n",
    "import matplotlib.pyplot as plt"
   ]
  },
  {
   "cell_type": "code",
   "execution_count": 73,
   "metadata": {},
   "outputs": [
    {
     "data": {
      "text/plain": [
       "Text(0.5, 1.0, 'Ground Truth : 5')"
      ]
     },
     "execution_count": 73,
     "metadata": {},
     "output_type": "execute_result"
    },
    {
     "data": {
      "image/png": "[encoded data removed]",
      "text/plain": [
       "<Figure size 432x288 with 1 Axes>"
      ]
     },
     "metadata": {
      "needs_background": "light"
     },
     "output_type": "display_data"
    }
   ],
   "source": [
    "# Loading data and plotting the digit\n",
    "(train_images,train_labels),(test_images, test_labels) = mnist.load_data()\n",
    "#display the first image in the training data\n",
    "plt.imshow(train_images[0,:,:],cmap='gray')\n",
    "plt.title('Ground Truth : {}'.format(train_labels[0]))\n",
    "# plt.show()"
   ]
  },
  {
   "cell_type": "code",
   "execution_count": 74,
   "metadata": {},
   "outputs": [],
   "source": [
    "# Processing the data\n",
    "#1. convert each image of shape 28*28 to 784 dimensional which will be fed to the network as a single feature\n",
    "dimData = np.prod(train_images.shape[1:])\n",
    "train_data = train_images.reshape(train_images.shape[0],dimData)\n",
    "test_data = test_images.reshape(test_images.shape[0],dimData)\n",
    "#convert data to float and scale values between 0 and 1\n",
    "train_data.astype('float')\n",
    "test_data.astype('float')\n",
    "\n",
    "#Run the same code without scaling the images, how the accuracy changes? I commented the scaling step\n",
    "#scale data\n",
    "#train_data //=255\n",
    "#test_data //=255\n",
    "#change the labels frominteger to one-hot encoding\n",
    "train_labels_one_hot = to_categorical(train_labels)\n",
    "test_labels_one_hot = to_categorical(test_labels)"
   ]
  },
  {
   "cell_type": "code",
   "execution_count": 75,
   "metadata": {},
   "outputs": [
    {
     "name": "stdout",
     "output_type": "stream",
     "text": [
      "Epoch 1/20\n",
      "235/235 [==============================] - 4s 17ms/step - loss: 0.4346 - accuracy: 0.8858 - val_loss: 0.2616 - val_accuracy: 0.9221\n",
      "Epoch 2/20\n",
      "235/235 [==============================] - 4s 17ms/step - loss: 0.1593 - accuracy: 0.9547 - val_loss: 0.2222 - val_accuracy: 0.9333\n",
      "Epoch 3/20\n",
      "235/235 [==============================] - 7s 29ms/step - loss: 0.1226 - accuracy: 0.9641 - val_loss: 0.1132 - val_accuracy: 0.9683\n",
      "Epoch 4/20\n",
      "235/235 [==============================] - 5s 23ms/step - loss: 0.1051 - accuracy: 0.9694 - val_loss: 0.1222 - val_accuracy: 0.9634\n",
      "Epoch 5/20\n",
      "235/235 [==============================] - 7s 28ms/step - loss: 0.0932 - accuracy: 0.9722 - val_loss: 0.1204 - val_accuracy: 0.9645\n",
      "Epoch 6/20\n",
      "235/235 [==============================] - 5s 21ms/step - loss: 0.0820 - accuracy: 0.9755 - val_loss: 0.0882 - val_accuracy: 0.9724\n",
      "Epoch 7/20\n",
      "235/235 [==============================] - 5s 20ms/step - loss: 0.0761 - accuracy: 0.9776 - val_loss: 0.0974 - val_accuracy: 0.9711\n",
      "Epoch 8/20\n",
      "235/235 [==============================] - 4s 19ms/step - loss: 0.0711 - accuracy: 0.9782 - val_loss: 0.1188 - val_accuracy: 0.9637\n",
      "Epoch 9/20\n",
      "235/235 [==============================] - 4s 19ms/step - loss: 0.0687 - accuracy: 0.9797 - val_loss: 0.0840 - val_accuracy: 0.9752\n",
      "Epoch 10/20\n",
      "235/235 [==============================] - 4s 17ms/step - loss: 0.0642 - accuracy: 0.9807 - val_loss: 0.0991 - val_accuracy: 0.9690\n",
      "Epoch 11/20\n",
      "235/235 [==============================] - 4s 17ms/step - loss: 0.0603 - accuracy: 0.9820 - val_loss: 0.0942 - val_accuracy: 0.9716\n",
      "Epoch 12/20\n",
      "235/235 [==============================] - 6s 25ms/step - loss: 0.0594 - accuracy: 0.9822 - val_loss: 0.0944 - val_accuracy: 0.9724\n",
      "Epoch 13/20\n",
      "235/235 [==============================] - 6s 26ms/step - loss: 0.0605 - accuracy: 0.9821 - val_loss: 0.0993 - val_accuracy: 0.9703\n",
      "Epoch 14/20\n",
      "235/235 [==============================] - 5s 23ms/step - loss: 0.0598 - accuracy: 0.9818 - val_loss: 0.0925 - val_accuracy: 0.9722\n",
      "Epoch 15/20\n",
      "235/235 [==============================] - 5s 23ms/step - loss: 0.0563 - accuracy: 0.9831 - val_loss: 0.1024 - val_accuracy: 0.9704\n",
      "Epoch 16/20\n",
      "235/235 [==============================] - 8s 35ms/step - loss: 0.0561 - accuracy: 0.9829 - val_loss: 0.0938 - val_accuracy: 0.9730\n",
      "Epoch 17/20\n",
      "235/235 [==============================] - 8s 34ms/step - loss: 0.0557 - accuracy: 0.9827 - val_loss: 0.0853 - val_accuracy: 0.9743\n",
      "Epoch 18/20\n",
      "235/235 [==============================] - 8s 33ms/step - loss: 0.0529 - accuracy: 0.9846 - val_loss: 0.1002 - val_accuracy: 0.9706\n",
      "Epoch 19/20\n",
      "235/235 [==============================] - 7s 29ms/step - loss: 0.0519 - accuracy: 0.9842 - val_loss: 0.0805 - val_accuracy: 0.9776\n",
      "Epoch 20/20\n",
      "235/235 [==============================] - 7s 31ms/step - loss: 0.0547 - accuracy: 0.9832 - val_loss: 0.0824 - val_accuracy: 0.9756\n"
     ]
    }
   ],
   "source": [
    "#creating network\n",
    "\n",
    "# change the number of hidden layer and the activation to tanh or sigmoid and see what happens\n",
    " \n",
    "model = Sequential()\n",
    "model.add(Dense(512, activation='relu', input_shape=(dimData,)))\n",
    "model.add(Dense(128, activation='relu'))\n",
    "model.add(Dense(512, activation='tanh'))\n",
    "model.add(Dense(64, activation='sigmoid'))\n",
    "model.add(Dense(10, activation='softmax'))\n",
    "model.compile(optimizer='rmsprop', loss='categorical_crossentropy', metrics=['accuracy'])\n",
    "history = model.fit(train_data, train_labels_one_hot, batch_size=256, epochs=20, verbose=1,\n",
    "          validation_data=(test_data, test_labels_one_hot))\n"
   ]
  },
  {
   "cell_type": "code",
   "execution_count": 70,
   "metadata": {},
   "outputs": [
    {
     "name": "stdout",
     "output_type": "stream",
     "text": [
      "[7]\n",
      "313/313 [==============================] - 1s 4ms/step - loss: 0.1341 - accuracy: 0.9620\n",
      "Evaluation result on Test Data : Loss = 0.13408632576465607, accuracy = 0.9620000123977661\n",
      "*********************************\n",
      "dict_keys(['loss', 'accuracy', 'val_loss', 'val_accuracy'])\n"
     ]
    }
   ],
   "source": [
    "# Evaluation\n",
    "predict1 = model.predict_classes(test_data[[0], :])\n",
    "print(predict1)\n",
    "[test_loss, test_acc] = model.evaluate(test_data, test_labels_one_hot)\n",
    "\n",
    "print(\"Evaluation result on Test Data : Loss = {}, accuracy = {}\".format(test_loss, test_acc))\n",
    "print(\"*********************************\")\n",
    "print(history.history.keys())"
   ]
  },
  {
   "cell_type": "code",
   "execution_count": 65,
   "metadata": {},
   "outputs": [
    {
     "data": {
      "image/png": "[encoded data removed]",
      "text/plain": [
       "<Figure size 432x288 with 1 Axes>"
      ]
     },
     "metadata": {
      "needs_background": "light"
     },
     "output_type": "display_data"
    }
   ],
   "source": [
    "# question 1\n",
    "# using history object for plotting loss\n",
    "\n",
    "plt.plot(history.history['loss'])\n",
    "plt.plot(history.history['val_loss'])\n",
    "plt.title('loss model')\n",
    "plt.ylabel('loss')\n",
    "plt.xlabel('num of epoch')\n",
    "plt.legend(['train', 'val'], loc='upper left')\n",
    "plt.show()"
   ]
  },
  {
   "cell_type": "code",
   "execution_count": 54,
   "metadata": {},
   "outputs": [
    {
     "data": {
      "image/png": "[encoded data removed]",
      "text/plain": [
       "<Figure size 432x288 with 1 Axes>"
      ]
     },
     "metadata": {
      "needs_background": "light"
     },
     "output_type": "display_data"
    }
   ],
   "source": [
    "# using history object for plotting accuracy\n",
    "plt.plot(history.history['accuracy'])\n",
    "plt.plot(history.history['val_accuracy'])\n",
    "plt.title('accuracy model')\n",
    "plt.ylabel('accuracy')\n",
    "plt.xlabel('numer of epochs')\n",
    "plt.legend(['train', 'val'], loc='upper left')\n",
    "plt.show()"
   ]
  },
  {
   "cell_type": "code",
   "execution_count": 55,
   "metadata": {},
   "outputs": [
    {
     "data": {
      "image/png": "[encoded data removed]",
      "text/plain": [
       "<Figure size 432x288 with 1 Axes>"
      ]
     },
     "metadata": {
      "needs_background": "light"
     },
     "output_type": "display_data"
    },
    {
     "name": "stdout",
     "output_type": "stream",
     "text": [
      "The prediction of the 10th in the test dataset is:  [7]\n",
      "313/313 [==============================] - 1s 3ms/step - loss: 1.6483 - accuracy: 0.4129\n",
      "Evaluation result on Test Data : Loss = 1.648270845413208, accuracy = 0.41290000081062317\n"
     ]
    }
   ],
   "source": [
    "# question 2\n",
    "\n",
    "plt.imshow(test_images[10, :, :], cmap='gray')\n",
    "plt.title('Ground Truth : {}'.format(test_labels[0]))\n",
    "plt.show()\n",
    "predict_test = model.predict_classes(test_data[[10], :])\n",
    "print(\"The prediction of the 10th in the test dataset is: \", predict_test)\n",
    "[test_loss, test_acc] = model.evaluate(test_data, test_labels_one_hot)\n",
    "print(\"Evaluation result on Test Data : Loss = {}, accuracy = {}\".format(test_loss, test_acc))"
   ]
  },
  {
   "cell_type": "code",
   "execution_count": null,
   "metadata": {},
   "outputs": [],
   "source": []
  },
  {
   "cell_type": "code",
   "execution_count": null,
   "metadata": {},
   "outputs": [],
   "source": []
  },
  {
   "cell_type": "code",
   "execution_count": null,
   "metadata": {},
   "outputs": [],
   "source": []
  }
 ],
 "metadata": {
  "kernelspec": {
   "display_name": "Python 3",
   "language": "python",
   "name": "python3"
  },
  "language_info": {
   "codemirror_mode": {
    "name": "ipython",
    "version": 3
   },
   "file_extension": ".py",
   "mimetype": "text/x-python",
   "name": "python",
   "nbconvert_exporter": "python",
   "pygments_lexer": "ipython3",
   "version": "3.6.10"
  }
 },
 "nbformat": 4,
 "nbformat_minor": 4
}
