{
 "cells": [
  {
   "cell_type": "code",
   "execution_count": 32,
   "metadata": {},
   "outputs": [],
   "source": [
    "# import libraries\n",
    "from keras import Sequential\n",
    "from keras.datasets import mnist\n",
    "import numpy as np\n",
    "from keras.layers import Dense\n",
    "from keras.utils import to_categorical\n",
    "import matplotlib.pyplot as plt"
   ]
  },
  {
   "cell_type": "code",
   "execution_count": 33,
   "metadata": {},
   "outputs": [
    {
     "data": {
      "text/plain": [
       "Text(0.5, 1.0, 'Ground Truth : 5')"
      ]
     },
     "execution_count": 33,
     "metadata": {},
     "output_type": "execute_result"
    },
    {
     "data": {
      "image/png": "[encoded data removed]",
      "text/plain": [
       "<Figure size 432x288 with 1 Axes>"
      ]
     },
     "metadata": {
      "needs_background": "light"
     },
     "output_type": "display_data"
    }
   ],
   "source": [
    "# Loading data and plotting the digit\n",
    "(train_images,train_labels),(test_images, test_labels) = mnist.load_data()\n",
    "#display the first image in the training data\n",
    "plt.imshow(train_images[0,:,:],cmap='gray')\n",
    "plt.title('Ground Truth : {}'.format(train_labels[0]))\n",
    "# plt.show()"
   ]
  },
  {
   "cell_type": "code",
   "execution_count": 34,
   "metadata": {},
   "outputs": [],
   "source": [
    "# Processing the data\n",
    "#1. convert each image of shape 28*28 to 784 dimensional which will be fed to the network as a single feature\n",
    "dimData = np.prod(train_images.shape[1:])\n",
    "train_data = train_images.reshape(train_images.shape[0],dimData)\n",
    "test_data = test_images.reshape(test_images.shape[0],dimData)\n",
    "#convert data to float and scale values between 0 and 1\n",
    "train_data.astype('float')\n",
    "test_data.astype('float')\n",
    "#scale data\n",
    "train_data //=255\n",
    "test_data //=255\n",
    "#change the labels frominteger to one-hot encoding\n",
    "train_labels_one_hot = to_categorical(train_labels)\n",
    "test_labels_one_hot = to_categorical(test_labels)"
   ]
  },
  {
   "cell_type": "code",
   "execution_count": 51,
   "metadata": {},
   "outputs": [
    {
     "name": "stdout",
     "output_type": "stream",
     "text": [
      "Epoch 1/20\n",
      "235/235 [==============================] - 12s 51ms/step - loss: 1.8383 - accuracy: 0.3494 - val_loss: 1.9121 - val_accuracy: 0.3104\n",
      "Epoch 2/20\n",
      "235/235 [==============================] - 12s 49ms/step - loss: 1.7322 - accuracy: 0.3814 - val_loss: 1.7178 - val_accuracy: 0.3907\n",
      "Epoch 3/20\n",
      "235/235 [==============================] - 12s 50ms/step - loss: 1.6978 - accuracy: 0.3916 - val_loss: 1.7582 - val_accuracy: 0.3761\n",
      "Epoch 4/20\n",
      "235/235 [==============================] - 12s 51ms/step - loss: 1.6792 - accuracy: 0.3986 - val_loss: 1.7626 - val_accuracy: 0.3762\n",
      "Epoch 5/20\n",
      "235/235 [==============================] - 13s 56ms/step - loss: 1.6627 - accuracy: 0.4033 - val_loss: 1.7251 - val_accuracy: 0.3834\n",
      "Epoch 6/20\n",
      "235/235 [==============================] - 14s 58ms/step - loss: 1.6507 - accuracy: 0.4074 - val_loss: 1.7219 - val_accuracy: 0.3873\n",
      "Epoch 7/20\n",
      "235/235 [==============================] - 12s 53ms/step - loss: 1.6389 - accuracy: 0.4114 - val_loss: 1.7093 - val_accuracy: 0.3867\n",
      "Epoch 8/20\n",
      "235/235 [==============================] - 13s 54ms/step - loss: 1.6278 - accuracy: 0.4127 - val_loss: 1.6726 - val_accuracy: 0.4017\n",
      "Epoch 9/20\n",
      "235/235 [==============================] - 12s 52ms/step - loss: 1.6125 - accuracy: 0.4180 - val_loss: 1.6893 - val_accuracy: 0.3976\n",
      "Epoch 10/20\n",
      "235/235 [==============================] - 12s 51ms/step - loss: 1.5973 - accuracy: 0.4237 - val_loss: 1.6586 - val_accuracy: 0.4076\n",
      "Epoch 11/20\n",
      "235/235 [==============================] - 12s 51ms/step - loss: 1.5823 - accuracy: 0.4267 - val_loss: 1.6694 - val_accuracy: 0.3944\n",
      "Epoch 12/20\n",
      "235/235 [==============================] - 12s 49ms/step - loss: 1.5703 - accuracy: 0.4297 - val_loss: 1.6557 - val_accuracy: 0.4075\n",
      "Epoch 13/20\n",
      "235/235 [==============================] - 12s 51ms/step - loss: 1.5574 - accuracy: 0.4344 - val_loss: 1.6379 - val_accuracy: 0.4187\n",
      "Epoch 14/20\n",
      "235/235 [==============================] - 12s 50ms/step - loss: 1.5455 - accuracy: 0.4385 - val_loss: 1.6549 - val_accuracy: 0.4080\n",
      "Epoch 15/20\n",
      "235/235 [==============================] - 12s 50ms/step - loss: 1.5334 - accuracy: 0.4402 - val_loss: 1.6308 - val_accuracy: 0.4193\n",
      "Epoch 16/20\n",
      "235/235 [==============================] - 12s 52ms/step - loss: 1.5204 - accuracy: 0.4466 - val_loss: 1.6543 - val_accuracy: 0.4113\n",
      "Epoch 17/20\n",
      "235/235 [==============================] - 12s 51ms/step - loss: 1.5092 - accuracy: 0.4471 - val_loss: 1.6423 - val_accuracy: 0.4131\n",
      "Epoch 18/20\n",
      "235/235 [==============================] - 12s 50ms/step - loss: 1.4965 - accuracy: 0.4521 - val_loss: 1.6397 - val_accuracy: 0.4189\n",
      "Epoch 19/20\n",
      "235/235 [==============================] - 12s 50ms/step - loss: 1.4861 - accuracy: 0.4548 - val_loss: 1.6417 - val_accuracy: 0.4158\n",
      "Epoch 20/20\n",
      "235/235 [==============================] - 12s 51ms/step - loss: 1.4738 - accuracy: 0.4611 - val_loss: 1.6483 - val_accuracy: 0.4129\n"
     ]
    }
   ],
   "source": [
    "#creating network\n",
    "\n",
    "# change the number of hidden layer and the activation to tanh or sigmoid and see what happens\n",
    " \n",
    "model = Sequential()\n",
    "model.add(Dense(512, activation='tanh', input_shape=(dimData,)))\n",
    "model.add(Dense(512, activation='tanh'))\n",
    "model.add(Dense(512, activation='tanh'))\n",
    "model.add(Dense(512, activation='tanh'))\n",
    "model.add(Dense(512, activation='tanh'))\n",
    "model.add(Dense(512, activation='tanh'))\n",
    "model.add(Dense(10, activation='softmax'))\n",
    "model.compile(optimizer='rmsprop', loss='categorical_crossentropy', metrics=['accuracy'])\n",
    "history = model.fit(train_data, train_labels_one_hot, batch_size=256, epochs=20, verbose=1,\n",
    "          validation_data=(test_data, test_labels_one_hot))\n"
   ]
  },
  {
   "cell_type": "code",
   "execution_count": 52,
   "metadata": {},
   "outputs": [
    {
     "name": "stdout",
     "output_type": "stream",
     "text": [
      "[7]\n",
      "313/313 [==============================] - 1s 3ms/step - loss: 1.6483 - accuracy: 0.4129\n",
      "Evaluation result on Test Data : Loss = 1.648270845413208, accuracy = 0.41290000081062317\n",
      "*********************************\n",
      "dict_keys(['loss', 'accuracy', 'val_loss', 'val_accuracy'])\n"
     ]
    }
   ],
   "source": [
    "# Evaluation\n",
    "predict1 = model.predict_classes(test_data[[0], :])\n",
    "print(predict1)\n",
    "[test_loss, test_acc] = model.evaluate(test_data, test_labels_one_hot)\n",
    "\n",
    "print(\"Evaluation result on Test Data : Loss = {}, accuracy = {}\".format(test_loss, test_acc))\n",
    "print(\"*********************************\")\n",
    "print(history.history.keys())"
   ]
  },
  {
   "cell_type": "code",
   "execution_count": 53,
   "metadata": {},
   "outputs": [
    {
     "data": {
      "image/png": "[encoded data removed]",
      "text/plain": [
       "<Figure size 432x288 with 1 Axes>"
      ]
     },
     "metadata": {
      "needs_background": "light"
     },
     "output_type": "display_data"
    }
   ],
   "source": [
    "# question 1\n",
    "# using history object for plotting loss\n",
    "\n",
    "plt.plot(history.history['loss'])\n",
    "\n",
    "plt.plot(history.history['val_loss'])\n",
    "\n",
    "plt.title('model loss')\n",
    "\n",
    "plt.ylabel('loss')\n",
    "\n",
    "plt.xlabel('num of epoch')\n",
    "\n",
    "plt.legend(['train', 'test'], loc='upper left')\n",
    "\n",
    "plt.show()"
   ]
  },
  {
   "cell_type": "code",
   "execution_count": 54,
   "metadata": {},
   "outputs": [
    {
     "data": {
      "image/png": "[encoded data removed]",
      "text/plain": [
       "<Figure size 432x288 with 1 Axes>"
      ]
     },
     "metadata": {
      "needs_background": "light"
     },
     "output_type": "display_data"
    }
   ],
   "source": [
    "# using history object for plotting accuracy\n",
    "plt.plot(history.history['accuracy'])\n",
    "\n",
    "plt.plot(history.history['val_accuracy'])\n",
    "\n",
    "plt.title('model accuracy')\n",
    "\n",
    "plt.ylabel('accuracy')\n",
    "\n",
    "plt.xlabel('numer of epochs')\n",
    "\n",
    "plt.legend(['train', 'test'], loc='upper left')\n",
    "\n",
    "plt.show()"
   ]
  },
  {
   "cell_type": "code",
   "execution_count": 55,
   "metadata": {},
   "outputs": [
    {
     "data": {
      "image/png": "[encoded data removed]",
      "text/plain": [
       "<Figure size 432x288 with 1 Axes>"
      ]
     },
     "metadata": {
      "needs_background": "light"
     },
     "output_type": "display_data"
    },
    {
     "name": "stdout",
     "output_type": "stream",
     "text": [
      "The prediction of the 10th in the test dataset is:  [7]\n",
      "313/313 [==============================] - 1s 3ms/step - loss: 1.6483 - accuracy: 0.4129\n",
      "Evaluation result on Test Data : Loss = 1.648270845413208, accuracy = 0.41290000081062317\n"
     ]
    }
   ],
   "source": [
    "# question 2\n",
    "\n",
    "plt.imshow(test_images[10, :, :], cmap='gray')\n",
    "plt.title('Ground Truth : {}'.format(test_labels[0]))\n",
    "plt.show()\n",
    "predict_test = model.predict_classes(test_data[[10], :])\n",
    "print(\"The prediction of the 10th in the test dataset is: \", predict_test)\n",
    "[test_loss, test_acc] = model.evaluate(test_data, test_labels_one_hot)\n",
    "print(\"Evaluation result on Test Data : Loss = {}, accuracy = {}\".format(test_loss, test_acc))"
   ]
  },
  {
   "cell_type": "code",
   "execution_count": null,
   "metadata": {},
   "outputs": [],
   "source": []
  },
  {
   "cell_type": "code",
   "execution_count": null,
   "metadata": {},
   "outputs": [],
   "source": []
  },
  {
   "cell_type": "code",
   "execution_count": null,
   "metadata": {},
   "outputs": [],
   "source": []
  }
 ],
 "metadata": {
  "kernelspec": {
   "display_name": "Python 3",
   "language": "python",
   "name": "python3"
  },
  "language_info": {
   "codemirror_mode": {
    "name": "ipython",
    "version": 3
   },
   "file_extension": ".py",
   "mimetype": "text/x-python",
   "name": "python",
   "nbconvert_exporter": "python",
   "pygments_lexer": "ipython3",
   "version": "3.6.10"
  }
 },
 "nbformat": 4,
 "nbformat_minor": 4
}
